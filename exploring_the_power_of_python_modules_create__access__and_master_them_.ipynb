{
  "cells": [
    {
      "cell_type": "markdown",
      "metadata": {
        "id": "view-in-github",
        "colab_type": "text"
      },
      "source": [
        "<a href=\"https://colab.research.google.com/github/Toussaintduk/Python_module/blob/main/exploring_the_power_of_python_modules_create__access__and_master_them_.ipynb\" target=\"_parent\"><img src=\"https://colab.research.google.com/assets/colab-badge.svg\" alt=\"Open In Colab\"/></a>"
      ]
    },
    {
      "cell_type": "markdown",
      "id": "69e085b9",
      "metadata": {
        "id": "69e085b9"
      },
      "source": [
        "<div align=\"center\" style=\" font-size: 80%; text-align: center; margin: 0 auto\">\n",
        "<img src=\"https://raw.githubusercontent.com/Explore-AI/Pictures/master/Python-Notebook-Banners/Examples.png\"  style=\"display: block; margin-left: auto; margin-right: auto;\";/>\n",
        "</div>"
      ]
    },
    {
      "cell_type": "markdown",
      "id": "f662d169",
      "metadata": {
        "id": "f662d169"
      },
      "source": [
        "# Exploring the Power of Python Modules\n",
        "**Create, Access, and Master Them.**\n",
        "\n",
        "© ExploreAI Academy\n",
        "\n",
        "### Introduction to classes and objects\n",
        "\n",
        "* Code organization\n",
        "* Code cleanliness\n",
        "* Developer productivity\n",
        "\n",
        "## Learning Outcomes\n",
        "* Understand the concept of Python modules and their benefits.\n",
        "* Learn how to create and structure your own modules.\n",
        "* Discover how to import and use both standard library and third-party modules effectively.\n",
        "* Gain best practices for writing organized, efficient, and reusable modules."
      ]
    },
    {
      "cell_type": "markdown",
      "id": "dprtdfRROwub",
      "metadata": {
        "id": "dprtdfRROwub"
      },
      "source": [
        "![](https://assets-global.website-files.com/5fe349b0c7ae10566e743048/612f3daa579e7668a10fa02f_Adding%20a%20Lego%20Brick%20To%20A%20Building%20Foundation_blog.jpg)"
      ]
    },
    {
      "cell_type": "markdown",
      "id": "m_48WzmLlCHR",
      "metadata": {
        "id": "m_48WzmLlCHR"
      },
      "source": [
        "## Benefits of Modules\n",
        "\n",
        "* **Organization**: Group related functions together, avoiding code clutter in the main script.\n",
        "* **Reusability**: Easily import and use the same module across different projects.\n",
        "* **Clarity**: Improve code readability by separating functionality into specific modules.\n",
        "* **Maintainability**: Easier to update and manage code when changes are confined to relevant modules."
      ]
    },
    {
      "cell_type": "markdown",
      "id": "17bD4n-pyuez",
      "metadata": {
        "id": "17bD4n-pyuez"
      },
      "source": [
        "```python\n",
        "\"\"\"\n",
        "Module containing simple math functions.\n",
        "\"\"\"\n",
        "\n",
        "def add(x, y):\n",
        "    \"\"\"Adds two numbers together.\"\"\"\n",
        "    return x + y\n",
        "\n",
        "def subtract(x, y):\n",
        "    \"\"\"Subtracts one number from another.\"\"\"\n",
        "    return x - y\n",
        "\n",
        "def multiply(x, y):\n",
        "    \"\"\"Multiplies two numbers together.\"\"\"\n",
        "    return x * y\n",
        "  "
      ]
    },
    {
      "cell_type": "markdown",
      "id": "RGyKNwtQzAlK",
      "metadata": {
        "id": "RGyKNwtQzAlK"
      },
      "source": [
        "## Importing my package\n",
        "This is .py file created in text editor or notepad. .py files can also be created in Jupyter just ensure it end in .py."
      ]
    },
    {
      "cell_type": "code",
      "source": [],
      "metadata": {
        "id": "c9aPCNs-ATHh"
      },
      "id": "c9aPCNs-ATHh",
      "execution_count": null,
      "outputs": []
    },
    {
      "cell_type": "code",
      "execution_count": 2,
      "id": "d74a3fdc",
      "metadata": {
        "id": "d74a3fdc",
        "outputId": "42a99ed8-1167-41e2-fad3-4f78d734547b",
        "colab": {
          "base_uri": "https://localhost:8080/",
          "height": 315
        }
      },
      "outputs": [
        {
          "output_type": "error",
          "ename": "ModuleNotFoundError",
          "evalue": "No module named 'my_math'",
          "traceback": [
            "\u001b[0;31m---------------------------------------------------------------------------\u001b[0m",
            "\u001b[0;31mModuleNotFoundError\u001b[0m                       Traceback (most recent call last)",
            "\u001b[0;32m<ipython-input-2-dfb07fbf06db>\u001b[0m in \u001b[0;36m<cell line: 1>\u001b[0;34m()\u001b[0m\n\u001b[0;32m----> 1\u001b[0;31m \u001b[0;32mimport\u001b[0m \u001b[0mmy_math\u001b[0m\u001b[0;34m\u001b[0m\u001b[0;34m\u001b[0m\u001b[0m\n\u001b[0m",
            "\u001b[0;31mModuleNotFoundError\u001b[0m: No module named 'my_math'",
            "",
            "\u001b[0;31m---------------------------------------------------------------------------\u001b[0;32m\nNOTE: If your import is failing due to a missing package, you can\nmanually install dependencies using either !pip or !apt.\n\nTo view examples of installing some common dependencies, click the\n\"Open Examples\" button below.\n\u001b[0;31m---------------------------------------------------------------------------\u001b[0m\n"
          ],
          "errorDetails": {
            "actions": [
              {
                "action": "open_url",
                "actionText": "Open Examples",
                "url": "/notebooks/snippets/importing_libraries.ipynb"
              }
            ]
          }
        }
      ],
      "source": [
        "import my_math"
      ]
    },
    {
      "cell_type": "code",
      "execution_count": 3,
      "id": "kSNpqPl5CWcy",
      "metadata": {
        "id": "kSNpqPl5CWcy",
        "outputId": "24f84ae8-0ce1-479f-b4a8-682403dc90dd",
        "colab": {
          "base_uri": "https://localhost:8080/",
          "height": 176
        }
      },
      "outputs": [
        {
          "output_type": "error",
          "ename": "NameError",
          "evalue": "name 'my_math' is not defined",
          "traceback": [
            "\u001b[0;31m---------------------------------------------------------------------------\u001b[0m",
            "\u001b[0;31mNameError\u001b[0m                                 Traceback (most recent call last)",
            "\u001b[0;32m<ipython-input-3-b52c1ec78e9b>\u001b[0m in \u001b[0;36m<cell line: 1>\u001b[0;34m()\u001b[0m\n\u001b[0;32m----> 1\u001b[0;31m \u001b[0mhelp\u001b[0m\u001b[0;34m(\u001b[0m\u001b[0mmy_math\u001b[0m\u001b[0;34m)\u001b[0m\u001b[0;34m\u001b[0m\u001b[0;34m\u001b[0m\u001b[0m\n\u001b[0m",
            "\u001b[0;31mNameError\u001b[0m: name 'my_math' is not defined"
          ]
        }
      ],
      "source": [
        "help(my_math)"
      ]
    },
    {
      "cell_type": "code",
      "execution_count": null,
      "id": "eEzARANY38il",
      "metadata": {
        "colab": {
          "base_uri": "https://localhost:8080/"
        },
        "id": "eEzARANY38il",
        "outputId": "f0360630-5f62-40a0-e16a-a8110e6b10aa"
      },
      "outputs": [
        {
          "ename": "NameError",
          "evalue": "name 'my_math' is not defined",
          "output_type": "error",
          "traceback": [
            "\u001b[1;31m---------------------------------------------------------------------------\u001b[0m",
            "\u001b[1;31mNameError\u001b[0m                                 Traceback (most recent call last)",
            "Cell \u001b[1;32mIn[2], line 1\u001b[0m\n\u001b[1;32m----> 1\u001b[0m \u001b[38;5;28mprint\u001b[39m(my_math\u001b[38;5;241m.\u001b[39madd(\u001b[38;5;241m1\u001b[39m,\u001b[38;5;241m2\u001b[39m))\n\u001b[0;32m      2\u001b[0m \u001b[38;5;28mprint\u001b[39m(my_math\u001b[38;5;241m.\u001b[39mmultiply(\u001b[38;5;241m2\u001b[39m,\u001b[38;5;241m4\u001b[39m))\n",
            "\u001b[1;31mNameError\u001b[0m: name 'my_math' is not defined"
          ]
        }
      ],
      "source": [
        "print(my_math.add(1,2))\n",
        "print(my_math.multiply(2,4))"
      ]
    },
    {
      "cell_type": "markdown",
      "id": "3d20a6a0",
      "metadata": {
        "id": "3d20a6a0"
      },
      "source": [
        "\n",
        "\n",
        "**Disclaimer**:\n",
        "* Your module cannot be created inside the notebook.\n",
        "* To easily access the module ensure it is in the same repository as the notebook\n",
        "* To access a package from any where it must be publish on Github\n",
        "\n",
        "\n",
        "**Important notes**\n",
        "* Choose descriptive and concise function names to reflect their purpose.\n",
        "* Add docstrings to explain what each function does and how to use it (like the comments in the example).\n",
        "* Indent code blocks within functions for readability.\n",
        "* Save the module file with a .py extension.\n",
        "* Place the module file in a directory that's included in your Python path for easy access."
      ]
    },
    {
      "cell_type": "code",
      "execution_count": null,
      "id": "50cfac54-2264-4588-827e-e65d0bac1410",
      "metadata": {
        "id": "50cfac54-2264-4588-827e-e65d0bac1410",
        "outputId": "6548da25-5208-4992-eadf-a40ffd7f4450"
      },
      "outputs": [
        {
          "ename": "ModuleNotFoundError",
          "evalue": "No module named 'my_math'",
          "output_type": "error",
          "traceback": [
            "\u001b[1;31m---------------------------------------------------------------------------\u001b[0m",
            "\u001b[1;31mModuleNotFoundError\u001b[0m                       Traceback (most recent call last)",
            "Cell \u001b[1;32mIn[3], line 1\u001b[0m\n\u001b[1;32m----> 1\u001b[0m \u001b[38;5;28;01mfrom\u001b[39;00m \u001b[38;5;21;01mmy_math\u001b[39;00m \u001b[38;5;28;01mimport\u001b[39;00m subtract \u001b[38;5;28;01mas\u001b[39;00m s\n",
            "\u001b[1;31mModuleNotFoundError\u001b[0m: No module named 'my_math'"
          ]
        }
      ],
      "source": [
        "from my_math import subtract as s"
      ]
    },
    {
      "cell_type": "code",
      "execution_count": null,
      "id": "86a88f4a-fba3-4f5d-bd1b-13ee6baf9636",
      "metadata": {
        "colab": {
          "base_uri": "https://localhost:8080/"
        },
        "id": "86a88f4a-fba3-4f5d-bd1b-13ee6baf9636",
        "outputId": "f7000d28-a686-479c-a0a9-31f6766b9940"
      },
      "outputs": [
        {
          "name": "stdout",
          "output_type": "stream",
          "text": [
            "Help on function subtract in module my_math:\n",
            "\n",
            "subtract(x, y)\n",
            "    Subtracts one number from another.\n",
            "\n"
          ]
        }
      ],
      "source": [
        "help(s)"
      ]
    },
    {
      "cell_type": "code",
      "execution_count": null,
      "id": "33c5b59a-db95-4e67-b448-dac3195cd73f",
      "metadata": {
        "colab": {
          "base_uri": "https://localhost:8080/"
        },
        "id": "33c5b59a-db95-4e67-b448-dac3195cd73f",
        "outputId": "c6f777e2-a2e7-42f9-d4b0-87626200c731"
      },
      "outputs": [
        {
          "data": {
            "text/plain": [
              "1"
            ]
          },
          "execution_count": 7,
          "metadata": {},
          "output_type": "execute_result"
        }
      ],
      "source": [
        "s(3,2)"
      ]
    },
    {
      "cell_type": "markdown",
      "id": "etf4yZUHDKFY",
      "metadata": {
        "id": "etf4yZUHDKFY"
      },
      "source": [
        "### Popular modules and their applications:\n",
        "* **math**: Perform advanced mathematical calculations.\n",
        "* **random**: Generate random numbers for simulations and games.\n",
        "* **os**: Interact with the operating system, like opening files or creating directories.\n",
        "* **datetime**: Work with dates and times effectively, formatting and manipulating them."
      ]
    },
    {
      "cell_type": "code",
      "execution_count": null,
      "id": "E3tVr2O2FpW7",
      "metadata": {
        "id": "E3tVr2O2FpW7"
      },
      "outputs": [],
      "source": [
        "import math\n",
        "import random\n",
        "import os\n",
        "import datetime"
      ]
    },
    {
      "cell_type": "code",
      "execution_count": null,
      "id": "7a73a964-123d-445e-85f0-c61fb592912e",
      "metadata": {
        "colab": {
          "base_uri": "https://localhost:8080/"
        },
        "id": "7a73a964-123d-445e-85f0-c61fb592912e",
        "outputId": "79e25e20-5513-42d2-ca36-619fd9df61fe"
      },
      "outputs": [
        {
          "name": "stdout",
          "output_type": "stream",
          "text": [
            "Help on built-in module math:\n",
            "\n",
            "NAME\n",
            "    math\n",
            "\n",
            "DESCRIPTION\n",
            "    This module provides access to the mathematical functions\n",
            "    defined by the C standard.\n",
            "\n",
            "FUNCTIONS\n",
            "    acos(x, /)\n",
            "        Return the arc cosine (measured in radians) of x.\n",
            "        \n",
            "        The result is between 0 and pi.\n",
            "    \n",
            "    acosh(x, /)\n",
            "        Return the inverse hyperbolic cosine of x.\n",
            "    \n",
            "    asin(x, /)\n",
            "        Return the arc sine (measured in radians) of x.\n",
            "        \n",
            "        The result is between -pi/2 and pi/2.\n",
            "    \n",
            "    asinh(x, /)\n",
            "        Return the inverse hyperbolic sine of x.\n",
            "    \n",
            "    atan(x, /)\n",
            "        Return the arc tangent (measured in radians) of x.\n",
            "        \n",
            "        The result is between -pi/2 and pi/2.\n",
            "    \n",
            "    atan2(y, x, /)\n",
            "        Return the arc tangent (measured in radians) of y/x.\n",
            "        \n",
            "        Unlike atan(y/x), the signs of both x and y are considered.\n",
            "    \n",
            "    atanh(x, /)\n",
            "        Return the inverse hyperbolic tangent of x.\n",
            "    \n",
            "    ceil(x, /)\n",
            "        Return the ceiling of x as an Integral.\n",
            "        \n",
            "        This is the smallest integer >= x.\n",
            "    \n",
            "    comb(n, k, /)\n",
            "        Number of ways to choose k items from n items without repetition and without order.\n",
            "        \n",
            "        Evaluates to n! / (k! * (n - k)!) when k <= n and evaluates\n",
            "        to zero when k > n.\n",
            "        \n",
            "        Also called the binomial coefficient because it is equivalent\n",
            "        to the coefficient of k-th term in polynomial expansion of the\n",
            "        expression (1 + x)**n.\n",
            "        \n",
            "        Raises TypeError if either of the arguments are not integers.\n",
            "        Raises ValueError if either of the arguments are negative.\n",
            "    \n",
            "    copysign(x, y, /)\n",
            "        Return a float with the magnitude (absolute value) of x but the sign of y.\n",
            "        \n",
            "        On platforms that support signed zeros, copysign(1.0, -0.0)\n",
            "        returns -1.0.\n",
            "    \n",
            "    cos(x, /)\n",
            "        Return the cosine of x (measured in radians).\n",
            "    \n",
            "    cosh(x, /)\n",
            "        Return the hyperbolic cosine of x.\n",
            "    \n",
            "    degrees(x, /)\n",
            "        Convert angle x from radians to degrees.\n",
            "    \n",
            "    dist(p, q, /)\n",
            "        Return the Euclidean distance between two points p and q.\n",
            "        \n",
            "        The points should be specified as sequences (or iterables) of\n",
            "        coordinates.  Both inputs must have the same dimension.\n",
            "        \n",
            "        Roughly equivalent to:\n",
            "            sqrt(sum((px - qx) ** 2.0 for px, qx in zip(p, q)))\n",
            "    \n",
            "    erf(x, /)\n",
            "        Error function at x.\n",
            "    \n",
            "    erfc(x, /)\n",
            "        Complementary error function at x.\n",
            "    \n",
            "    exp(x, /)\n",
            "        Return e raised to the power of x.\n",
            "    \n",
            "    expm1(x, /)\n",
            "        Return exp(x)-1.\n",
            "        \n",
            "        This function avoids the loss of precision involved in the direct evaluation of exp(x)-1 for small x.\n",
            "    \n",
            "    fabs(x, /)\n",
            "        Return the absolute value of the float x.\n",
            "    \n",
            "    factorial(x, /)\n",
            "        Find x!.\n",
            "        \n",
            "        Raise a ValueError if x is negative or non-integral.\n",
            "    \n",
            "    floor(x, /)\n",
            "        Return the floor of x as an Integral.\n",
            "        \n",
            "        This is the largest integer <= x.\n",
            "    \n",
            "    fmod(x, y, /)\n",
            "        Return fmod(x, y), according to platform C.\n",
            "        \n",
            "        x % y may differ.\n",
            "    \n",
            "    frexp(x, /)\n",
            "        Return the mantissa and exponent of x, as pair (m, e).\n",
            "        \n",
            "        m is a float and e is an int, such that x = m * 2.**e.\n",
            "        If x is 0, m and e are both 0.  Else 0.5 <= abs(m) < 1.0.\n",
            "    \n",
            "    fsum(seq, /)\n",
            "        Return an accurate floating point sum of values in the iterable seq.\n",
            "        \n",
            "        Assumes IEEE-754 floating point arithmetic.\n",
            "    \n",
            "    gamma(x, /)\n",
            "        Gamma function at x.\n",
            "    \n",
            "    gcd(*integers)\n",
            "        Greatest Common Divisor.\n",
            "    \n",
            "    hypot(...)\n",
            "        hypot(*coordinates) -> value\n",
            "        \n",
            "        Multidimensional Euclidean distance from the origin to a point.\n",
            "        \n",
            "        Roughly equivalent to:\n",
            "            sqrt(sum(x**2 for x in coordinates))\n",
            "        \n",
            "        For a two dimensional point (x, y), gives the hypotenuse\n",
            "        using the Pythagorean theorem:  sqrt(x*x + y*y).\n",
            "        \n",
            "        For example, the hypotenuse of a 3/4/5 right triangle is:\n",
            "        \n",
            "            >>> hypot(3.0, 4.0)\n",
            "            5.0\n",
            "    \n",
            "    isclose(a, b, *, rel_tol=1e-09, abs_tol=0.0)\n",
            "        Determine whether two floating point numbers are close in value.\n",
            "        \n",
            "          rel_tol\n",
            "            maximum difference for being considered \"close\", relative to the\n",
            "            magnitude of the input values\n",
            "          abs_tol\n",
            "            maximum difference for being considered \"close\", regardless of the\n",
            "            magnitude of the input values\n",
            "        \n",
            "        Return True if a is close in value to b, and False otherwise.\n",
            "        \n",
            "        For the values to be considered close, the difference between them\n",
            "        must be smaller than at least one of the tolerances.\n",
            "        \n",
            "        -inf, inf and NaN behave similarly to the IEEE 754 Standard.  That\n",
            "        is, NaN is not close to anything, even itself.  inf and -inf are\n",
            "        only close to themselves.\n",
            "    \n",
            "    isfinite(x, /)\n",
            "        Return True if x is neither an infinity nor a NaN, and False otherwise.\n",
            "    \n",
            "    isinf(x, /)\n",
            "        Return True if x is a positive or negative infinity, and False otherwise.\n",
            "    \n",
            "    isnan(x, /)\n",
            "        Return True if x is a NaN (not a number), and False otherwise.\n",
            "    \n",
            "    isqrt(n, /)\n",
            "        Return the integer part of the square root of the input.\n",
            "    \n",
            "    lcm(*integers)\n",
            "        Least Common Multiple.\n",
            "    \n",
            "    ldexp(x, i, /)\n",
            "        Return x * (2**i).\n",
            "        \n",
            "        This is essentially the inverse of frexp().\n",
            "    \n",
            "    lgamma(x, /)\n",
            "        Natural logarithm of absolute value of Gamma function at x.\n",
            "    \n",
            "    log(...)\n",
            "        log(x, [base=math.e])\n",
            "        Return the logarithm of x to the given base.\n",
            "        \n",
            "        If the base not specified, returns the natural logarithm (base e) of x.\n",
            "    \n",
            "    log10(x, /)\n",
            "        Return the base 10 logarithm of x.\n",
            "    \n",
            "    log1p(x, /)\n",
            "        Return the natural logarithm of 1+x (base e).\n",
            "        \n",
            "        The result is computed in a way which is accurate for x near zero.\n",
            "    \n",
            "    log2(x, /)\n",
            "        Return the base 2 logarithm of x.\n",
            "    \n",
            "    modf(x, /)\n",
            "        Return the fractional and integer parts of x.\n",
            "        \n",
            "        Both results carry the sign of x and are floats.\n",
            "    \n",
            "    nextafter(x, y, /)\n",
            "        Return the next floating-point value after x towards y.\n",
            "    \n",
            "    perm(n, k=None, /)\n",
            "        Number of ways to choose k items from n items without repetition and with order.\n",
            "        \n",
            "        Evaluates to n! / (n - k)! when k <= n and evaluates\n",
            "        to zero when k > n.\n",
            "        \n",
            "        If k is not specified or is None, then k defaults to n\n",
            "        and the function returns n!.\n",
            "        \n",
            "        Raises TypeError if either of the arguments are not integers.\n",
            "        Raises ValueError if either of the arguments are negative.\n",
            "    \n",
            "    pow(x, y, /)\n",
            "        Return x**y (x to the power of y).\n",
            "    \n",
            "    prod(iterable, /, *, start=1)\n",
            "        Calculate the product of all the elements in the input iterable.\n",
            "        \n",
            "        The default start value for the product is 1.\n",
            "        \n",
            "        When the iterable is empty, return the start value.  This function is\n",
            "        intended specifically for use with numeric values and may reject\n",
            "        non-numeric types.\n",
            "    \n",
            "    radians(x, /)\n",
            "        Convert angle x from degrees to radians.\n",
            "    \n",
            "    remainder(x, y, /)\n",
            "        Difference between x and the closest integer multiple of y.\n",
            "        \n",
            "        Return x - n*y where n*y is the closest integer multiple of y.\n",
            "        In the case where x is exactly halfway between two multiples of\n",
            "        y, the nearest even value of n is used. The result is always exact.\n",
            "    \n",
            "    sin(x, /)\n",
            "        Return the sine of x (measured in radians).\n",
            "    \n",
            "    sinh(x, /)\n",
            "        Return the hyperbolic sine of x.\n",
            "    \n",
            "    sqrt(x, /)\n",
            "        Return the square root of x.\n",
            "    \n",
            "    tan(x, /)\n",
            "        Return the tangent of x (measured in radians).\n",
            "    \n",
            "    tanh(x, /)\n",
            "        Return the hyperbolic tangent of x.\n",
            "    \n",
            "    trunc(x, /)\n",
            "        Truncates the Real x to the nearest Integral toward 0.\n",
            "        \n",
            "        Uses the __trunc__ magic method.\n",
            "    \n",
            "    ulp(x, /)\n",
            "        Return the value of the least significant bit of the float x.\n",
            "\n",
            "DATA\n",
            "    e = 2.718281828459045\n",
            "    inf = inf\n",
            "    nan = nan\n",
            "    pi = 3.141592653589793\n",
            "    tau = 6.283185307179586\n",
            "\n",
            "FILE\n",
            "    (built-in)\n",
            "\n",
            "\n"
          ]
        }
      ],
      "source": [
        "help(math)"
      ]
    },
    {
      "cell_type": "markdown",
      "id": "DndZG44XIQhz",
      "metadata": {
        "id": "DndZG44XIQhz"
      },
      "source": [
        "## Third-Party Modules\n",
        "\n",
        "These are packages made outside the environment. Once installed this packages will ocassionally need to be updated in terminal.\n",
        "\n",
        "```python\n",
        "pip\n",
        "```\n"
      ]
    },
    {
      "cell_type": "code",
      "execution_count": null,
      "id": "2c5d1871-02ff-42a4-9838-5c584d4d50b8",
      "metadata": {
        "colab": {
          "base_uri": "https://localhost:8080/"
        },
        "id": "2c5d1871-02ff-42a4-9838-5c584d4d50b8",
        "outputId": "7afd746e-4eb3-4a49-b6db-14abfafe5316"
      },
      "outputs": [
        {
          "name": "stdout",
          "output_type": "stream",
          "text": [
            "Requirement already satisfied: matplotlib in c:\\programdata\\anaconda3\\lib\\site-packages (3.7.2)\n",
            "Requirement already satisfied: contourpy>=1.0.1 in c:\\programdata\\anaconda3\\lib\\site-packages (from matplotlib) (1.2.0)\n",
            "Requirement already satisfied: cycler>=0.10 in c:\\programdata\\anaconda3\\lib\\site-packages (from matplotlib) (0.11.0)\n",
            "Requirement already satisfied: fonttools>=4.22.0 in c:\\programdata\\anaconda3\\lib\\site-packages (from matplotlib) (4.25.0)\n",
            "Requirement already satisfied: kiwisolver>=1.0.1 in c:\\programdata\\anaconda3\\lib\\site-packages (from matplotlib) (1.4.4)\n",
            "Requirement already satisfied: numpy>=1.20 in c:\\users\\user\\appdata\\roaming\\python\\python311\\site-packages (from matplotlib) (1.26.3)\n",
            "Requirement already satisfied: packaging>=20.0 in c:\\programdata\\anaconda3\\lib\\site-packages (from matplotlib) (23.1)\n",
            "Requirement already satisfied: pillow>=6.2.0 in c:\\programdata\\anaconda3\\lib\\site-packages (from matplotlib) (10.0.1)\n",
            "Requirement already satisfied: pyparsing<3.1,>=2.3.1 in c:\\programdata\\anaconda3\\lib\\site-packages (from matplotlib) (3.0.9)\n",
            "Requirement already satisfied: python-dateutil>=2.7 in c:\\programdata\\anaconda3\\lib\\site-packages (from matplotlib) (2.8.2)\n",
            "Requirement already satisfied: six>=1.5 in c:\\programdata\\anaconda3\\lib\\site-packages (from python-dateutil>=2.7->matplotlib) (1.16.0)\n",
            "Note: you may need to restart the kernel to use updated packages.\n"
          ]
        }
      ],
      "source": [
        "pip install matplotlib"
      ]
    },
    {
      "cell_type": "code",
      "execution_count": null,
      "id": "419bd0a2-7b64-4b2d-ae28-5b96c1abd19e",
      "metadata": {
        "colab": {
          "base_uri": "https://localhost:8080/",
          "height": 489
        },
        "id": "419bd0a2-7b64-4b2d-ae28-5b96c1abd19e",
        "outputId": "b0f7d4bf-cbd4-4ee7-b37c-a423495aae1a"
      },
      "outputs": [
        {
          "data": {
            "text/plain": [
              "<module 'matplotlib.pyplot' from 'C:\\\\ProgramData\\\\anaconda3\\\\Lib\\\\site-packages\\\\matplotlib\\\\pyplot.py'>"
            ]
          },
          "execution_count": 8,
          "metadata": {},
          "output_type": "execute_result"
        },
        {
          "data": {
            "image/png": "[encoded data removed]",
            "text/plain": [
              "<Figure size 640x480 with 1 Axes>"
            ]
          },
          "metadata": {},
          "output_type": "display_data"
        }
      ],
      "source": [
        "import matplotlib.pyplot as plt\n",
        "\n",
        "x_values = [1,2,3,4]\n",
        "y_values = [2,4,6,8]\n",
        "\n",
        "plt.plot(x_values, y_values)\n",
        "plt.xlabel(\"X\")\n",
        "plt.ylabel(\"Y\")\n",
        "plt.title(\"My Graph\")\n",
        "plt.grid(True)\n",
        "\n",
        "plt"
      ]
    },
    {
      "cell_type": "code",
      "execution_count": null,
      "id": "7128a7c2-8f42-4067-8704-c910a1147d37",
      "metadata": {
        "id": "7128a7c2-8f42-4067-8704-c910a1147d37"
      },
      "outputs": [],
      "source": [
        "# Click at own risk\n",
        "#help(plt)"
      ]
    },
    {
      "cell_type": "markdown",
      "id": "eb999234",
      "metadata": {
        "id": "eb999234"
      },
      "source": [
        "**Third party modules are what make Python one of the most popular and well used languages in the data world**\n",
        "\n",
        "\n",
        "![](https://www.zestminds.com/blog/wp-content/uploads/2020/12/Why-is-Python-Important.png)"
      ]
    },
    {
      "cell_type": "markdown",
      "id": "Ex_kDytbtPRK",
      "metadata": {
        "id": "Ex_kDytbtPRK"
      },
      "source": [
        "## Pandas\n",
        "\n",
        "The most powerful tool used in basic ML\n",
        "\n",
        "![](https://geo-python-site.readthedocs.io/en/latest/_images/pandas_logo.png)"
      ]
    },
    {
      "cell_type": "markdown",
      "id": "9hb-xCWptlC5",
      "metadata": {
        "id": "9hb-xCWptlC5"
      },
      "source": [
        "## Challenge"
      ]
    },
    {
      "cell_type": "code",
      "execution_count": null,
      "id": "OeXxp_D0uOKP",
      "metadata": {
        "id": "OeXxp_D0uOKP"
      },
      "outputs": [],
      "source": [
        "# DO NOT EDIT\n",
        "import pandas as pd\n",
        "import numpy as np\n",
        "\n",
        "ebp_url = 'https://raw.githubusercontent.com/Explore-AI/Public-Data/master/Data/electrification_by_province.csv'\n",
        "ebp_df = pd.read_csv(ebp_url)\n",
        "\n",
        "##for col, row in ebp_df.iloc[:,1:].iteritems():\n",
        "   # ebp_df[col] = ebp_df[col].str.replace(',','').astype(int)\n",
        "\n",
        "#ebp_df.head()"
      ]
    },
    {
      "cell_type": "code",
      "execution_count": null,
      "id": "r2ilCPUcuVPd",
      "metadata": {
        "colab": {
          "base_uri": "https://localhost:8080/",
          "height": 206
        },
        "id": "r2ilCPUcuVPd",
        "outputId": "b19d2189-580e-4c03-b132-5ea06ce6b93a"
      },
      "outputs": [
        {
          "data": {
            "text/html": [
              "<div>\n",
              "<style scoped>\n",
              "    .dataframe tbody tr th:only-of-type {\n",
              "        vertical-align: middle;\n",
              "    }\n",
              "\n",
              "    .dataframe tbody tr th {\n",
              "        vertical-align: top;\n",
              "    }\n",
              "\n",
              "    .dataframe thead th {\n",
              "        text-align: right;\n",
              "    }\n",
              "</style>\n",
              "<table border=\"1\" class=\"dataframe\">\n",
              "  <thead>\n",
              "    <tr style=\"text-align: right;\">\n",
              "      <th></th>\n",
              "      <th>Tweets</th>\n",
              "      <th>Date</th>\n",
              "    </tr>\n",
              "  </thead>\n",
              "  <tbody>\n",
              "    <tr>\n",
              "      <th>0</th>\n",
              "      <td>@BongaDlulane Please send an email to mediades...</td>\n",
              "      <td>2019-11-29 12:50:54</td>\n",
              "    </tr>\n",
              "    <tr>\n",
              "      <th>1</th>\n",
              "      <td>@saucy_mamiie Pls log a call on 0860037566</td>\n",
              "      <td>2019-11-29 12:46:53</td>\n",
              "    </tr>\n",
              "    <tr>\n",
              "      <th>2</th>\n",
              "      <td>@BongaDlulane Query escalated to media desk.</td>\n",
              "      <td>2019-11-29 12:46:10</td>\n",
              "    </tr>\n",
              "    <tr>\n",
              "      <th>3</th>\n",
              "      <td>Before leaving the office this afternoon, head...</td>\n",
              "      <td>2019-11-29 12:33:36</td>\n",
              "    </tr>\n",
              "    <tr>\n",
              "      <th>4</th>\n",
              "      <td>#ESKOMFREESTATE #MEDIASTATEMENT : ESKOM SUSPEN...</td>\n",
              "      <td>2019-11-29 12:17:43</td>\n",
              "    </tr>\n",
              "  </tbody>\n",
              "</table>\n",
              "</div>"
            ],
            "text/plain": [
              "                                              Tweets                 Date\n",
              "0  @BongaDlulane Please send an email to mediades...  2019-11-29 12:50:54\n",
              "1         @saucy_mamiie Pls log a call on 0860037566  2019-11-29 12:46:53\n",
              "2       @BongaDlulane Query escalated to media desk.  2019-11-29 12:46:10\n",
              "3  Before leaving the office this afternoon, head...  2019-11-29 12:33:36\n",
              "4  #ESKOMFREESTATE #MEDIASTATEMENT : ESKOM SUSPEN...  2019-11-29 12:17:43"
            ]
          },
          "execution_count": 12,
          "metadata": {},
          "output_type": "execute_result"
        }
      ],
      "source": [
        "twitter_url = 'https://raw.githubusercontent.com/Explore-AI/Public-Data/master/Data/twitter_nov_2019.csv'\n",
        "twitter_df = pd.read_csv(twitter_url)\n",
        "twitter_df.head()"
      ]
    },
    {
      "cell_type": "code",
      "execution_count": null,
      "id": "ODbC1EdN6vMe",
      "metadata": {
        "id": "ODbC1EdN6vMe"
      },
      "outputs": [],
      "source": []
    },
    {
      "cell_type": "markdown",
      "id": "Cul1J5I1uY2K",
      "metadata": {
        "id": "Cul1J5I1uY2K"
      },
      "source": [
        "## DO NOT EDIT"
      ]
    },
    {
      "cell_type": "code",
      "execution_count": null,
      "id": "Vd45F1jpuXtp",
      "metadata": {
        "id": "Vd45F1jpuXtp",
        "outputId": "78e59ca7-0ba0-4f98-920c-c97f5f1db79e"
      },
      "outputs": [
        {
          "ename": "ValueError",
          "evalue": "could not convert string to float: '  39,660 '",
          "output_type": "error",
          "traceback": [
            "\u001b[1;31m---------------------------------------------------------------------------\u001b[0m",
            "\u001b[1;31mValueError\u001b[0m                                Traceback (most recent call last)",
            "Cell \u001b[1;32mIn[14], line 2\u001b[0m\n\u001b[0;32m      1\u001b[0m \u001b[38;5;66;03m# gauteng ebp data as a list\u001b[39;00m\n\u001b[1;32m----> 2\u001b[0m gauteng \u001b[38;5;241m=\u001b[39m ebp_df[\u001b[38;5;124m'\u001b[39m\u001b[38;5;124mGauteng\u001b[39m\u001b[38;5;124m'\u001b[39m]\u001b[38;5;241m.\u001b[39mastype(\u001b[38;5;28mfloat\u001b[39m)\u001b[38;5;241m.\u001b[39mto_list()\n\u001b[0;32m      4\u001b[0m \u001b[38;5;66;03m# dates for twitter tweets\u001b[39;00m\n\u001b[0;32m      5\u001b[0m dates \u001b[38;5;241m=\u001b[39m twitter_df[\u001b[38;5;124m'\u001b[39m\u001b[38;5;124mDate\u001b[39m\u001b[38;5;124m'\u001b[39m]\u001b[38;5;241m.\u001b[39mto_list()\n",
            "File \u001b[1;32mC:\\ProgramData\\anaconda3\\Lib\\site-packages\\pandas\\core\\generic.py:6534\u001b[0m, in \u001b[0;36mNDFrame.astype\u001b[1;34m(self, dtype, copy, errors)\u001b[0m\n\u001b[0;32m   6530\u001b[0m     results \u001b[38;5;241m=\u001b[39m [ser\u001b[38;5;241m.\u001b[39mastype(dtype, copy\u001b[38;5;241m=\u001b[39mcopy) \u001b[38;5;28;01mfor\u001b[39;00m _, ser \u001b[38;5;129;01min\u001b[39;00m \u001b[38;5;28mself\u001b[39m\u001b[38;5;241m.\u001b[39mitems()]\n\u001b[0;32m   6532\u001b[0m \u001b[38;5;28;01melse\u001b[39;00m:\n\u001b[0;32m   6533\u001b[0m     \u001b[38;5;66;03m# else, only a single dtype is given\u001b[39;00m\n\u001b[1;32m-> 6534\u001b[0m     new_data \u001b[38;5;241m=\u001b[39m \u001b[38;5;28mself\u001b[39m\u001b[38;5;241m.\u001b[39m_mgr\u001b[38;5;241m.\u001b[39mastype(dtype\u001b[38;5;241m=\u001b[39mdtype, copy\u001b[38;5;241m=\u001b[39mcopy, errors\u001b[38;5;241m=\u001b[39merrors)\n\u001b[0;32m   6535\u001b[0m     res \u001b[38;5;241m=\u001b[39m \u001b[38;5;28mself\u001b[39m\u001b[38;5;241m.\u001b[39m_constructor_from_mgr(new_data, axes\u001b[38;5;241m=\u001b[39mnew_data\u001b[38;5;241m.\u001b[39maxes)\n\u001b[0;32m   6536\u001b[0m     \u001b[38;5;28;01mreturn\u001b[39;00m res\u001b[38;5;241m.\u001b[39m__finalize__(\u001b[38;5;28mself\u001b[39m, method\u001b[38;5;241m=\u001b[39m\u001b[38;5;124m\"\u001b[39m\u001b[38;5;124mastype\u001b[39m\u001b[38;5;124m\"\u001b[39m)\n",
            "File \u001b[1;32mC:\\ProgramData\\anaconda3\\Lib\\site-packages\\pandas\\core\\internals\\managers.py:414\u001b[0m, in \u001b[0;36mBaseBlockManager.astype\u001b[1;34m(self, dtype, copy, errors)\u001b[0m\n\u001b[0;32m    411\u001b[0m \u001b[38;5;28;01melif\u001b[39;00m using_copy_on_write():\n\u001b[0;32m    412\u001b[0m     copy \u001b[38;5;241m=\u001b[39m \u001b[38;5;28;01mFalse\u001b[39;00m\n\u001b[1;32m--> 414\u001b[0m \u001b[38;5;28;01mreturn\u001b[39;00m \u001b[38;5;28mself\u001b[39m\u001b[38;5;241m.\u001b[39mapply(\n\u001b[0;32m    415\u001b[0m     \u001b[38;5;124m\"\u001b[39m\u001b[38;5;124mastype\u001b[39m\u001b[38;5;124m\"\u001b[39m,\n\u001b[0;32m    416\u001b[0m     dtype\u001b[38;5;241m=\u001b[39mdtype,\n\u001b[0;32m    417\u001b[0m     copy\u001b[38;5;241m=\u001b[39mcopy,\n\u001b[0;32m    418\u001b[0m     errors\u001b[38;5;241m=\u001b[39merrors,\n\u001b[0;32m    419\u001b[0m     using_cow\u001b[38;5;241m=\u001b[39musing_copy_on_write(),\n\u001b[0;32m    420\u001b[0m )\n",
            "File \u001b[1;32mC:\\ProgramData\\anaconda3\\Lib\\site-packages\\pandas\\core\\internals\\managers.py:354\u001b[0m, in \u001b[0;36mBaseBlockManager.apply\u001b[1;34m(self, f, align_keys, **kwargs)\u001b[0m\n\u001b[0;32m    352\u001b[0m         applied \u001b[38;5;241m=\u001b[39m b\u001b[38;5;241m.\u001b[39mapply(f, \u001b[38;5;241m*\u001b[39m\u001b[38;5;241m*\u001b[39mkwargs)\n\u001b[0;32m    353\u001b[0m     \u001b[38;5;28;01melse\u001b[39;00m:\n\u001b[1;32m--> 354\u001b[0m         applied \u001b[38;5;241m=\u001b[39m \u001b[38;5;28mgetattr\u001b[39m(b, f)(\u001b[38;5;241m*\u001b[39m\u001b[38;5;241m*\u001b[39mkwargs)\n\u001b[0;32m    355\u001b[0m     result_blocks \u001b[38;5;241m=\u001b[39m extend_blocks(applied, result_blocks)\n\u001b[0;32m    357\u001b[0m out \u001b[38;5;241m=\u001b[39m \u001b[38;5;28mtype\u001b[39m(\u001b[38;5;28mself\u001b[39m)\u001b[38;5;241m.\u001b[39mfrom_blocks(result_blocks, \u001b[38;5;28mself\u001b[39m\u001b[38;5;241m.\u001b[39maxes)\n",
            "File \u001b[1;32mC:\\ProgramData\\anaconda3\\Lib\\site-packages\\pandas\\core\\internals\\blocks.py:616\u001b[0m, in \u001b[0;36mBlock.astype\u001b[1;34m(self, dtype, copy, errors, using_cow)\u001b[0m\n\u001b[0;32m    596\u001b[0m \u001b[38;5;250m\u001b[39m\u001b[38;5;124;03m\"\"\"\u001b[39;00m\n\u001b[0;32m    597\u001b[0m \u001b[38;5;124;03mCoerce to the new dtype.\u001b[39;00m\n\u001b[0;32m    598\u001b[0m \n\u001b[1;32m   (...)\u001b[0m\n\u001b[0;32m    612\u001b[0m \u001b[38;5;124;03mBlock\u001b[39;00m\n\u001b[0;32m    613\u001b[0m \u001b[38;5;124;03m\"\"\"\u001b[39;00m\n\u001b[0;32m    614\u001b[0m values \u001b[38;5;241m=\u001b[39m \u001b[38;5;28mself\u001b[39m\u001b[38;5;241m.\u001b[39mvalues\n\u001b[1;32m--> 616\u001b[0m new_values \u001b[38;5;241m=\u001b[39m astype_array_safe(values, dtype, copy\u001b[38;5;241m=\u001b[39mcopy, errors\u001b[38;5;241m=\u001b[39merrors)\n\u001b[0;32m    618\u001b[0m new_values \u001b[38;5;241m=\u001b[39m maybe_coerce_values(new_values)\n\u001b[0;32m    620\u001b[0m refs \u001b[38;5;241m=\u001b[39m \u001b[38;5;28;01mNone\u001b[39;00m\n",
            "File \u001b[1;32mC:\\ProgramData\\anaconda3\\Lib\\site-packages\\pandas\\core\\dtypes\\astype.py:238\u001b[0m, in \u001b[0;36mastype_array_safe\u001b[1;34m(values, dtype, copy, errors)\u001b[0m\n\u001b[0;32m    235\u001b[0m     dtype \u001b[38;5;241m=\u001b[39m dtype\u001b[38;5;241m.\u001b[39mnumpy_dtype\n\u001b[0;32m    237\u001b[0m \u001b[38;5;28;01mtry\u001b[39;00m:\n\u001b[1;32m--> 238\u001b[0m     new_values \u001b[38;5;241m=\u001b[39m astype_array(values, dtype, copy\u001b[38;5;241m=\u001b[39mcopy)\n\u001b[0;32m    239\u001b[0m \u001b[38;5;28;01mexcept\u001b[39;00m (\u001b[38;5;167;01mValueError\u001b[39;00m, \u001b[38;5;167;01mTypeError\u001b[39;00m):\n\u001b[0;32m    240\u001b[0m     \u001b[38;5;66;03m# e.g. _astype_nansafe can fail on object-dtype of strings\u001b[39;00m\n\u001b[0;32m    241\u001b[0m     \u001b[38;5;66;03m#  trying to convert to float\u001b[39;00m\n\u001b[0;32m    242\u001b[0m     \u001b[38;5;28;01mif\u001b[39;00m errors \u001b[38;5;241m==\u001b[39m \u001b[38;5;124m\"\u001b[39m\u001b[38;5;124mignore\u001b[39m\u001b[38;5;124m\"\u001b[39m:\n",
            "File \u001b[1;32mC:\\ProgramData\\anaconda3\\Lib\\site-packages\\pandas\\core\\dtypes\\astype.py:183\u001b[0m, in \u001b[0;36mastype_array\u001b[1;34m(values, dtype, copy)\u001b[0m\n\u001b[0;32m    180\u001b[0m     values \u001b[38;5;241m=\u001b[39m values\u001b[38;5;241m.\u001b[39mastype(dtype, copy\u001b[38;5;241m=\u001b[39mcopy)\n\u001b[0;32m    182\u001b[0m \u001b[38;5;28;01melse\u001b[39;00m:\n\u001b[1;32m--> 183\u001b[0m     values \u001b[38;5;241m=\u001b[39m _astype_nansafe(values, dtype, copy\u001b[38;5;241m=\u001b[39mcopy)\n\u001b[0;32m    185\u001b[0m \u001b[38;5;66;03m# in pandas we don't store numpy str dtypes, so convert to object\u001b[39;00m\n\u001b[0;32m    186\u001b[0m \u001b[38;5;28;01mif\u001b[39;00m \u001b[38;5;28misinstance\u001b[39m(dtype, np\u001b[38;5;241m.\u001b[39mdtype) \u001b[38;5;129;01mand\u001b[39;00m \u001b[38;5;28missubclass\u001b[39m(values\u001b[38;5;241m.\u001b[39mdtype\u001b[38;5;241m.\u001b[39mtype, \u001b[38;5;28mstr\u001b[39m):\n",
            "File \u001b[1;32mC:\\ProgramData\\anaconda3\\Lib\\site-packages\\pandas\\core\\dtypes\\astype.py:134\u001b[0m, in \u001b[0;36m_astype_nansafe\u001b[1;34m(arr, dtype, copy, skipna)\u001b[0m\n\u001b[0;32m    130\u001b[0m     \u001b[38;5;28;01mraise\u001b[39;00m \u001b[38;5;167;01mValueError\u001b[39;00m(msg)\n\u001b[0;32m    132\u001b[0m \u001b[38;5;28;01mif\u001b[39;00m copy \u001b[38;5;129;01mor\u001b[39;00m arr\u001b[38;5;241m.\u001b[39mdtype \u001b[38;5;241m==\u001b[39m \u001b[38;5;28mobject\u001b[39m \u001b[38;5;129;01mor\u001b[39;00m dtype \u001b[38;5;241m==\u001b[39m \u001b[38;5;28mobject\u001b[39m:\n\u001b[0;32m    133\u001b[0m     \u001b[38;5;66;03m# Explicit copy, or required since NumPy can't view from / to object.\u001b[39;00m\n\u001b[1;32m--> 134\u001b[0m     \u001b[38;5;28;01mreturn\u001b[39;00m arr\u001b[38;5;241m.\u001b[39mastype(dtype, copy\u001b[38;5;241m=\u001b[39m\u001b[38;5;28;01mTrue\u001b[39;00m)\n\u001b[0;32m    136\u001b[0m \u001b[38;5;28;01mreturn\u001b[39;00m arr\u001b[38;5;241m.\u001b[39mastype(dtype, copy\u001b[38;5;241m=\u001b[39mcopy)\n",
            "\u001b[1;31mValueError\u001b[0m: could not convert string to float: '  39,660 '"
          ]
        }
      ],
      "source": [
        "# gauteng ebp data as a list\n",
        "gauteng = ebp_df['Gauteng'].astype(float).to_list()\n",
        "\n",
        "# dates for twitter tweets\n",
        "dates = twitter_df['Date'].to_list()\n",
        "\n",
        "# dictionary mapping official municipality twitter handles to the municipality name\n",
        "mun_dict = {\n",
        "    '@CityofCTAlerts' : 'Cape Town',\n",
        "    '@CityPowerJhb' : 'Johannesburg',\n",
        "    '@eThekwiniM' : 'eThekwini' ,\n",
        "    '@EMMInfo' : 'Ekurhuleni',\n",
        "    '@centlecutility' : 'Mangaung',\n",
        "    '@NMBmunicipality' : 'Nelson Mandela Bay',\n",
        "    '@CityTshwane' : 'Tshwane'\n",
        "}\n",
        "\n",
        "# dictionary of english stopwords\n",
        "stop_words_dict = {\n",
        "    'stopwords':[\n",
        "        'where', 'done', 'if', 'before', 'll', 'very', 'keep', 'something', 'nothing', 'thereupon',\n",
        "        'may', 'why', 'â€™s', 'therefore', 'you', 'with', 'towards', 'make', 'really', 'few', 'former',\n",
        "        'during', 'mine', 'do', 'would', 'of', 'off', 'six', 'yourself', 'becoming', 'through',\n",
        "        'seeming', 'hence', 'us', 'anywhere', 'regarding', 'whole', 'down', 'seem', 'whereas', 'to',\n",
        "        'their', 'various', 'thereafter', 'â€˜d', 'above', 'put', 'sometime', 'moreover', 'whoever', 'although',\n",
        "        'at', 'four', 'each', 'among', 'whatever', 'any', 'anyhow', 'herein', 'become', 'last', 'between', 'still',\n",
        "        'was', 'almost', 'twelve', 'used', 'who', 'go', 'not', 'enough', 'well', 'â€™ve', 'might', 'see', 'whose',\n",
        "        'everywhere', 'yourselves', 'across', 'myself', 'further', 'did', 'then', 'is', 'except', 'up', 'take',\n",
        "        'became', 'however', 'many', 'thence', 'onto', 'â€˜m', 'my', 'own', 'must', 'wherein', 'elsewhere', 'behind',\n",
        "        'becomes', 'alone', 'due', 'being', 'neither', 'a', 'over', 'beside', 'fifteen', 'meanwhile', 'upon', 'next',\n",
        "        'forty', 'what', 'less', 'and', 'please', 'toward', 'about', 'below', 'hereafter', 'whether', 'yet', 'nor',\n",
        "        'against', 'whereupon', 'top', 'first', 'three', 'show', 'per', 'five', 'two', 'ourselves', 'whenever',\n",
        "        'get', 'thereby', 'noone', 'had', 'now', 'everyone', 'everything', 'nowhere', 'ca', 'though', 'least',\n",
        "        'so', 'both', 'otherwise', 'whereby', 'unless', 'somewhere', 'give', 'formerly', 'â€™d', 'under',\n",
        "        'while', 'empty', 'doing', 'besides', 'thus', 'this', 'anyone', 'its', 'after', 'bottom', 'call',\n",
        "        'nâ€™t', 'name', 'even', 'eleven', 'by', 'from', 'when', 'or', 'anyway', 'how', 'the', 'all',\n",
        "        'much', 'another', 'since', 'hundred', 'serious', 'â€˜ve', 'ever', 'out', 'full', 'themselves',\n",
        "        'been', 'in', \"'d\", 'wherever', 'part', 'someone', 'therein', 'can', 'seemed', 'hereby', 'others',\n",
        "        \"'s\", \"'re\", 'most', 'one', \"n't\", 'into', 'some', 'will', 'these', 'twenty', 'here', 'as', 'nobody',\n",
        "        'also', 'along', 'than', 'anything', 'he', 'there', 'does', 'we', 'â€™ll', 'latterly', 'are', 'ten',\n",
        "        'hers', 'should', 'they', 'â€˜s', 'either', 'am', 'be', 'perhaps', 'â€™re', 'only', 'namely', 'sixty',\n",
        "        'made', \"'m\", 'always', 'those', 'have', 'again', 'her', 'once', 'ours', 'herself', 'else', 'has', 'nine',\n",
        "        'more', 'sometimes', 'your', 'yours', 'that', 'around', 'his', 'indeed', 'mostly', 'cannot', 'â€˜ll', 'too',\n",
        "        'seems', 'â€™m', 'himself', 'latter', 'whither', 'amount', 'other', 'nevertheless', 'whom', 'for', 'somehow',\n",
        "        'beforehand', 'just', 'an', 'beyond', 'amongst', 'none', \"'ve\", 'say', 'via', 'but', 'often', 're', 'our',\n",
        "        'because', 'rather', 'using', 'without', 'throughout', 'on', 'she', 'never', 'eight', 'no', 'hereupon',\n",
        "        'them', 'whereafter', 'quite', 'which', 'move', 'thru', 'until', 'afterwards', 'fifty', 'i', 'itself', 'nâ€˜t',\n",
        "        'him', 'could', 'front', 'within', 'â€˜re', 'back', 'such', 'already', 'several', 'side', 'whence', 'me',\n",
        "        'same', 'were', 'it', 'every', 'third', 'together'\n",
        "    ]\n",
        "}"
      ]
    },
    {
      "cell_type": "markdown",
      "id": "eH_9yWFBud9Z",
      "metadata": {
        "id": "eH_9yWFBud9Z"
      },
      "source": [
        "## Function 1: Metric Dictionary\n",
        "\n",
        "Write a function that calculates the mean, median, variance, standard deviation, minimum and maximum of of list of items. You can assume the given list is contains only numerical entries, and you may use numpy functions to do this.\n",
        "\n",
        "**Function Specifications:**\n",
        "- Function should allow a list as input.\n",
        "- It should return a `dict` with keys `'mean'`, `'median'`, `'std'`, `'var'`, `'min'`, and `'max'`, corresponding to the mean, median, standard deviation, variance, minimum and maximum of the input list, respectively.\n",
        "- The standard deviation and variance values must be unbiased. **Hint:** use the `ddof` parameter in the corresponding numpy functions!\n",
        "- All values in the returned `dict` should be rounded to 2 decimal places."
      ]
    },
    {
      "cell_type": "code",
      "execution_count": null,
      "id": "imkvCHxlukgc",
      "metadata": {
        "colab": {
          "base_uri": "https://localhost:8080/",
          "height": 53
        },
        "id": "imkvCHxlukgc",
        "outputId": "c0cc9a0a-4be0-44a5-a3f7-c30bf06ea191"
      },
      "outputs": [
        {
          "data": {
            "application/vnd.google.colaboratory.intrinsic+json": {
              "type": "string"
            },
            "text/plain": [
              "'\\nYou can use numpy stats modules or manually calculate the value\\n\\nUse the round() function to 2 decimal places\\n\\ndictionery are created using {}\\n\\nddof paramater is worth investigating\\n'"
            ]
          },
          "execution_count": 4,
          "metadata": {},
          "output_type": "execute_result"
        }
      ],
      "source": [
        "## YOUR CODE HERE\n",
        "\n",
        "#HINT\n",
        "\"\"\"\n",
        "You can use numpy stats modules or manually calculate the value\n",
        "\n",
        "Use the round() function to 2 decimal places\n",
        "\n",
        "dictionery are created using {}\n",
        "\n",
        "ddof paramater is worth investigating\n",
        "\"\"\""
      ]
    },
    {
      "cell_type": "markdown",
      "id": "vqIs5sEpulXX",
      "metadata": {
        "id": "vqIs5sEpulXX"
      },
      "source": [
        "_**Expected Output**_:\n",
        "\n",
        "```python\n",
        "dictionary_of_metrics(gauteng) == {'mean': 26244.42,\n",
        "                                   'median': 24403.5,\n",
        "                                   'var': 108160153.17,\n",
        "                                   'std': 10400.01,\n",
        "                                   'min': 8842.0,\n",
        "                                   'max': 39660.0}\n",
        " ```"
      ]
    },
    {
      "cell_type": "markdown",
      "id": "1tL5Dd3-vJoU",
      "metadata": {
        "id": "1tL5Dd3-vJoU"
      },
      "source": [
        "## Function 2: Five Number Summary\n",
        "\n",
        "Write a function which takes in a list of integers and returns a dictionary of the [five number summary.](https://www.statisticshowto.datasciencecentral.com/how-to-find-a-five-number-summary-in-statistics/).\n",
        "\n",
        "**Function Specifications:**\n",
        "- The function should take a list as input.\n",
        "- The function should return a `dict` with keys `'max'`, `'median'`, `'min'`, `'q1'`, and `'q3'` corresponding to the maximum, median, minimum, first quartile and third quartile, respectively. You may use numpy functions to aid in your calculations.\n",
        "- All numerical values should be rounded to two decimal places."
      ]
    },
    {
      "cell_type": "code",
      "execution_count": null,
      "id": "aMjMIxnOvJB9",
      "metadata": {
        "id": "aMjMIxnOvJB9"
      },
      "outputs": [],
      "source": [
        "## YOUR CODE HERE\n",
        "\n",
        "#HINT\n",
        "\"\"\"\n",
        "You can use numpy stats modules or manually calculate the value\n",
        "\n",
        "Use the round() function to 2 decimal places\n",
        "\n",
        "dictionery are created using {}\n",
        "\n",
        "\"\"\""
      ]
    },
    {
      "cell_type": "markdown",
      "id": "Ytk3QAnSvWBR",
      "metadata": {
        "id": "Ytk3QAnSvWBR"
      },
      "source": [
        "_**Expected Output:**_\n",
        "\n",
        "```python\n",
        "five_num_summary(gauteng) == {\n",
        "    'max': 39660.0,\n",
        "    'median': 24403.5,\n",
        "    'min': 8842.0,\n",
        "    'q1': 18653.0,\n",
        "    'q3': 36372.0\n",
        "}\n",
        "\n",
        "```"
      ]
    },
    {
      "cell_type": "markdown",
      "id": "J2qNODYAvVqh",
      "metadata": {
        "id": "J2qNODYAvVqh"
      },
      "source": [
        "## Function 3: Date Parser\n",
        "\n",
        "The `dates` variable (created at the top of this notebook) is a list of dates represented as strings. The string contains the date in `'yyyy-mm-dd'` format, as well as the time in `hh:mm:ss` formamt. The first three entries in this variable are:\n",
        "```python\n",
        "dates[:3] == [\n",
        "    '2019-11-29 12:50:54',\n",
        "    '2019-11-29 12:46:53',\n",
        "    '2019-11-29 12:46:10'\n",
        "]\n",
        "```\n",
        "\n",
        "Write a function that takes as input a list of these datetime strings and returns only the date in `'yyyy-mm-dd'` format.\n",
        "\n",
        "**Function Specifications:**\n",
        "- The function should take a list of strings as input.\n",
        "- Each string in the input list is formatted as `'yyyy-mm-dd hh:mm:ss'`.\n",
        "- The function should return a list of strings where each element in the returned list contains only the date in the `'yyyy-mm-dd'` format.|"
      ]
    },
    {
      "cell_type": "code",
      "execution_count": null,
      "id": "z4HxqfPzvdAh",
      "metadata": {
        "colab": {
          "base_uri": "https://localhost:8080/",
          "height": 53
        },
        "id": "z4HxqfPzvdAh",
        "outputId": "7b156885-71d7-4365-e7c6-31f5c669edb9"
      },
      "outputs": [
        {
          "data": {
            "application/vnd.google.colaboratory.intrinsic+json": {
              "type": "string"
            },
            "text/plain": [
              "'\\nList comprehension is useful\\n\\nThe split() function can help divide input\\n\\nList indexing will assit with extraction\\n\\n'"
            ]
          },
          "execution_count": 5,
          "metadata": {},
          "output_type": "execute_result"
        }
      ],
      "source": [
        "## YOUR CODE HERE\n",
        "\n",
        "#HINT\n",
        "\"\"\"\n",
        "List comprehension is useful\n",
        "\n",
        "The split() function can help divide input\n",
        "\n",
        "List indexing will assit with extraction\n",
        "\n",
        "\"\"\""
      ]
    },
    {
      "cell_type": "code",
      "execution_count": null,
      "id": "wB9F8uvQhZeO",
      "metadata": {
        "colab": {
          "base_uri": "https://localhost:8080/"
        },
        "id": "wB9F8uvQhZeO",
        "outputId": "5336862c-eac5-4584-9ecc-9f4c5587ff16"
      },
      "outputs": [
        {
          "data": {
            "text/plain": [
              "['2019-11-29 12:50:54', '2019-11-29 12:46:53', '2019-11-29 12:46:10']"
            ]
          },
          "execution_count": 15,
          "metadata": {},
          "output_type": "execute_result"
        }
      ],
      "source": [
        "list_dates = [\n",
        "    '2019-11-29 12:50:54',\n",
        "    '2019-11-29 12:46:53',\n",
        "    '2019-11-29 12:46:10'\n",
        "]\n",
        "list_dates"
      ]
    },
    {
      "cell_type": "code",
      "execution_count": null,
      "id": "okeNQhY1hkkZ",
      "metadata": {
        "colab": {
          "base_uri": "https://localhost:8080/",
          "height": 35
        },
        "id": "okeNQhY1hkkZ",
        "outputId": "6163cab8-5ff9-40c5-977b-ce9ee4b3811e"
      },
      "outputs": [
        {
          "data": {
            "text/plain": [
              "'2019-11-29 12:50:54'"
            ]
          },
          "execution_count": 16,
          "metadata": {},
          "output_type": "execute_result"
        }
      ],
      "source": [
        "list_dates[0]"
      ]
    },
    {
      "cell_type": "code",
      "execution_count": null,
      "id": "2RXkOznDhs9V",
      "metadata": {
        "colab": {
          "base_uri": "https://localhost:8080/"
        },
        "id": "2RXkOznDhs9V",
        "outputId": "86ce786f-28fe-4653-d47c-bda62f58d5b1"
      },
      "outputs": [
        {
          "data": {
            "text/plain": [
              "['2019-11-29', '2019-11-29', '2019-11-29']"
            ]
          },
          "execution_count": 17,
          "metadata": {},
          "output_type": "execute_result"
        }
      ],
      "source": [
        "[x[0:10] for x in list_dates ]"
      ]
    },
    {
      "cell_type": "code",
      "execution_count": null,
      "id": "of_gXpdvhTG7",
      "metadata": {
        "id": "of_gXpdvhTG7"
      },
      "outputs": [],
      "source": [
        "def date_parser(list_dates):\n",
        "  ans = [x[0:10] for x in list_dates ]\n",
        "  return ans"
      ]
    },
    {
      "cell_type": "code",
      "execution_count": null,
      "id": "2cQFL3ZHiRr4",
      "metadata": {
        "colab": {
          "base_uri": "https://localhost:8080/"
        },
        "id": "2cQFL3ZHiRr4",
        "outputId": "e2523689-1b03-45bb-88b2-6784425d94a3"
      },
      "outputs": [
        {
          "data": {
            "text/plain": [
              "['2019-11-29', '2019-11-29', '2019-11-29']"
            ]
          },
          "execution_count": 23,
          "metadata": {},
          "output_type": "execute_result"
        }
      ],
      "source": [
        "[x.split()[0] for x in list_dates ]"
      ]
    },
    {
      "cell_type": "code",
      "execution_count": null,
      "id": "xPZG1x_LibxH",
      "metadata": {
        "colab": {
          "base_uri": "https://localhost:8080/"
        },
        "id": "xPZG1x_LibxH",
        "outputId": "7173e55b-7ae9-4f39-aaca-3b0b1d7dd427"
      },
      "outputs": [
        {
          "data": {
            "text/plain": [
              "[[1, 2], [3, 4]]"
            ]
          },
          "execution_count": 19,
          "metadata": {},
          "output_type": "execute_result"
        }
      ],
      "source": [
        "ar = [[1,2],[3,4]]\n",
        "ar"
      ]
    },
    {
      "cell_type": "code",
      "execution_count": null,
      "id": "bQQP4mKlij0s",
      "metadata": {
        "colab": {
          "base_uri": "https://localhost:8080/"
        },
        "id": "bQQP4mKlij0s",
        "outputId": "1d58be89-b2c4-4ed9-8eee-ac70e8041a3c"
      },
      "outputs": [
        {
          "data": {
            "text/plain": [
              "3"
            ]
          },
          "execution_count": 20,
          "metadata": {},
          "output_type": "execute_result"
        }
      ],
      "source": [
        "ar[1][0]"
      ]
    },
    {
      "cell_type": "code",
      "execution_count": null,
      "id": "Y-CTMNcmi-2O",
      "metadata": {
        "id": "Y-CTMNcmi-2O"
      },
      "outputs": [],
      "source": [
        "def date_parser(list_dates):\n",
        "  ans = map(lambda x : x[:10], list_dates)\n",
        "  return list(ans)"
      ]
    },
    {
      "cell_type": "code",
      "execution_count": null,
      "id": "9Ef4IU6PiH-d",
      "metadata": {
        "colab": {
          "base_uri": "https://localhost:8080/"
        },
        "id": "9Ef4IU6PiH-d",
        "outputId": "cb2702a0-814c-4dc8-e51d-645c7c050d91"
      },
      "outputs": [
        {
          "ename": "NameError",
          "evalue": "name 'dates' is not defined",
          "output_type": "error",
          "traceback": [
            "\u001b[1;31m---------------------------------------------------------------------------\u001b[0m",
            "\u001b[1;31mNameError\u001b[0m                                 Traceback (most recent call last)",
            "Cell \u001b[1;32mIn[24], line 1\u001b[0m\n\u001b[1;32m----> 1\u001b[0m date_parser(dates[\u001b[38;5;241m-\u001b[39m\u001b[38;5;241m3\u001b[39m:])\n",
            "\u001b[1;31mNameError\u001b[0m: name 'dates' is not defined"
          ]
        }
      ],
      "source": [
        "date_parser(dates[-3:])"
      ]
    },
    {
      "cell_type": "markdown",
      "id": "K4EHirOTv4EU",
      "metadata": {
        "id": "K4EHirOTv4EU"
      },
      "source": [
        "_**Expected Output:**_\n",
        "\n",
        "```python\n",
        "date_parser(dates[:3]) == ['2019-11-29', '2019-11-29', '2019-11-29']\n",
        "date_parser(dates[-3:]) == ['2019-11-20', '2019-11-20', '2019-11-20']\n",
        "```"
      ]
    },
    {
      "cell_type": "markdown",
      "id": "e9956efe",
      "metadata": {
        "id": "e9956efe",
        "tags": []
      },
      "source": [
        "## Learning Outcomes\n",
        "* Understand the concept of Python modules and their benefits.\n",
        "* Learn how to create and structure your own modules.\n",
        "* Discover how to import and use both standard library and third-party modules effectively.\n",
        "* Gain best practices for writing organized, efficient, and reusable modules."
      ]
    },
    {
      "cell_type": "code",
      "execution_count": null,
      "id": "2E-E_g-n9vYR",
      "metadata": {
        "id": "2E-E_g-n9vYR",
        "outputId": "70d034f8-16b8-448c-94b2-770d326aa110"
      },
      "outputs": [
        {
          "ename": "ModuleNotFoundError",
          "evalue": "No module named 'google'",
          "output_type": "error",
          "traceback": [
            "\u001b[1;31m---------------------------------------------------------------------------\u001b[0m",
            "\u001b[1;31mModuleNotFoundError\u001b[0m                       Traceback (most recent call last)",
            "Cell \u001b[1;32mIn[25], line 1\u001b[0m\n\u001b[1;32m----> 1\u001b[0m \u001b[38;5;28;01mfrom\u001b[39;00m \u001b[38;5;21;01mgoogle\u001b[39;00m\u001b[38;5;21;01m.\u001b[39;00m\u001b[38;5;21;01mcolab\u001b[39;00m \u001b[38;5;28;01mimport\u001b[39;00m drive\n\u001b[0;32m      2\u001b[0m drive\u001b[38;5;241m.\u001b[39mmount(\u001b[38;5;124m'\u001b[39m\u001b[38;5;124m/content/drive\u001b[39m\u001b[38;5;124m'\u001b[39m)\n",
            "\u001b[1;31mModuleNotFoundError\u001b[0m: No module named 'google'"
          ]
        }
      ],
      "source": [
        "from google.colab import drive\n",
        "drive.mount('/content/drive')"
      ]
    },
    {
      "cell_type": "markdown",
      "id": "26fd094b-0fee-46f1-a4b8-73766813c42b",
      "metadata": {
        "id": "26fd094b-0fee-46f1-a4b8-73766813c42b",
        "tags": []
      },
      "source": [
        "#  \n",
        "\n",
        "<div align=\"center\" style=\" font-size: 80%; text-align: center; margin: 0 auto\">\n",
        "<img src=\"https://raw.githubusercontent.com/Explore-AI/Pictures/master/ExploreAI_logos/EAI_Blue_Dark.png\"  style=\"width:200px\";/>\n",
        "</div>"
      ]
    }
  ],
  "metadata": {
    "colab": {
      "provenance": [],
      "include_colab_link": true
    },
    "kernelspec": {
      "display_name": "Python 3 (ipykernel)",
      "language": "python",
      "name": "python3"
    },
    "language_info": {
      "codemirror_mode": {
        "name": "ipython",
        "version": 3
      },
      "file_extension": ".py",
      "mimetype": "text/x-python",
      "name": "python",
      "nbconvert_exporter": "python",
      "pygments_lexer": "ipython3",
      "version": "3.11.5"
    }
  },
  "nbformat": 4,
  "nbformat_minor": 5
}