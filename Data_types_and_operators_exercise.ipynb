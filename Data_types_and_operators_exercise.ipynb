{
  "cells": [
    {
      "cell_type": "markdown",
      "metadata": {
        "id": "view-in-github",
        "colab_type": "text"
      },
      "source": [
        "<a href=\"https://colab.research.google.com/github/Toussaintduk/Python_module/blob/main/Data_types_and_operators_exercise.ipynb\" target=\"_parent\"><img src=\"https://colab.research.google.com/assets/colab-badge.svg\" alt=\"Open In Colab\"/></a>"
      ]
    },
    {
      "cell_type": "markdown",
      "id": "e22e9f24",
      "metadata": {
        "id": "e22e9f24"
      },
      "source": [
        "<div align=\"center\" style=\" font-size: 80%; text-align: center; margin: 0 auto\">\n",
        "<img src=\"https://raw.githubusercontent.com/Explore-AI/Pictures/master/Python-Notebook-Banners/Exercise.png\"  style=\"display: block; margin-left: auto; margin-right: auto;\";/>\n",
        "</div>"
      ]
    },
    {
      "cell_type": "markdown",
      "id": "f662d169",
      "metadata": {
        "id": "f662d169"
      },
      "source": [
        "# Exercise: Data types and operators\n",
        "© ExploreAI Academy"
      ]
    },
    {
      "cell_type": "markdown",
      "id": "26af890c",
      "metadata": {
        "id": "26af890c"
      },
      "source": [
        "In this exercise, we'll get comfortable with using the different data types we've been introduced to as well as using the correct data types and operators to solve problems.\n",
        "\n"
      ]
    },
    {
      "cell_type": "markdown",
      "id": "2d230d14",
      "metadata": {
        "tags": [],
        "id": "2d230d14"
      },
      "source": [
        "## Learning objectives\n",
        "\n",
        "In this train, we will practise:\n",
        "- How to declare variables, perform basic arithmetic operations, and print results using Python.\n",
        "- String manipulation, type casting, and solving practical problems."
      ]
    },
    {
      "cell_type": "markdown",
      "id": "d8cf8494",
      "metadata": {
        "id": "d8cf8494"
      },
      "source": [
        "## Outline\n",
        "\n",
        "1. [Exercises](#exercises)\n",
        "    * [Exercise 1](#exercise-1)\n",
        "    * [Exercise 2](#exercise-2)\n",
        "    * [Exercise 3](#exercise-3)\n",
        "    * [Exercise 4](#exercise-4)\n",
        "    * [Comprehensive exercise](#comprehensive-exercise)\n",
        "2. [Solutions](#solutions)\n",
        "    * [Exercise 1](#exercise-1)\n",
        "    * [Exercise 2](#exercise-2)\n",
        "    * [Exercise 3](#exercise-3)\n",
        "    * [Exercise 4](#exercise-4)\n",
        "    * [Comprehensive exercise](#comprehensive-exercise)"
      ]
    },
    {
      "cell_type": "markdown",
      "id": "a6714ebc",
      "metadata": {
        "id": "a6714ebc"
      },
      "source": [
        "## Exercises"
      ]
    },
    {
      "cell_type": "markdown",
      "id": "5a0b7683",
      "metadata": {
        "tags": [],
        "id": "5a0b7683"
      },
      "source": [
        "### Exercise 1\n",
        "\n",
        "Declare two variables, `num1` and `num2`, and assign them values of `15` and `7`, respectively. Calculate and store the result of their sum, difference, product, and division (as floating-point number), in separate variables. Print the newly created variables."
      ]
    },
    {
      "cell_type": "code",
      "execution_count": null,
      "id": "5af806b1",
      "metadata": {
        "id": "5af806b1",
        "outputId": "db3566e0-4318-4fab-ab46-420b7af834a3"
      },
      "outputs": [
        {
          "name": "stdout",
          "output_type": "stream",
          "text": [
            "sum 22\n",
            "difference 2.142857142857143\n",
            "product 105\n",
            "division 2.142857142857143\n"
          ]
        }
      ],
      "source": [
        "# Your solution here...\n",
        "\n",
        "num1=15\n",
        "num2=7\n",
        "s=num1+num2\n",
        "d=num1-num2\n",
        "p=num1*num2\n",
        "d=num1/num2\n",
        "print(\"sum\",s)\n",
        "print(\"difference\",d)\n",
        "print(\"product\",p)\n",
        "print(\"division\",float(d))\n"
      ]
    },
    {
      "cell_type": "markdown",
      "id": "9c0b822b",
      "metadata": {
        "id": "9c0b822b"
      },
      "source": [
        "### Exercise 2\n",
        "\n",
        "Create two string variables, `first_name` and `last_name`, with your first and last names. Concatenate them to form a full name and assign it to a new variable `full_name`. Print the `full_name` in uppercase.\n"
      ]
    },
    {
      "cell_type": "code",
      "execution_count": null,
      "id": "9a98b94d",
      "metadata": {
        "id": "9a98b94d",
        "outputId": "a87e6288-97c7-4ab7-9702-34690d129ce7"
      },
      "outputs": [
        {
          "name": "stdout",
          "output_type": "stream",
          "text": [
            "Full name:DUKUNDIMANA TOUSSAINT\n"
          ]
        }
      ],
      "source": [
        "# Your solution here...\n",
        "a=\"Dukundimana\"\n",
        "b=\"Toussaint\"\n",
        "full=a+\" \"+b\n",
        "print(\"Full name:\"+full.upper())"
      ]
    },
    {
      "cell_type": "markdown",
      "id": "38176553",
      "metadata": {
        "id": "38176553"
      },
      "source": [
        "### Exercise 3\n",
        "\n",
        "You have a variable `num_of_books` storing the number of books you have read this month, but it's currently in the form of a string. Create a new variable `books_read` by casting `num_of_books` to an integer. Then calculate the average number of books read per week, assuming there are four weeks in a month."
      ]
    },
    {
      "cell_type": "code",
      "execution_count": null,
      "id": "7b93057b",
      "metadata": {
        "id": "7b93057b",
        "outputId": "f9f84d38-e6d7-4980-d002-9e8154363cb8"
      },
      "outputs": [
        {
          "name": "stdout",
          "output_type": "stream",
          "text": [
            "num_of_books in 4 months 3.75\n"
          ]
        }
      ],
      "source": [
        "# Your solution here...\n",
        "\n",
        "num_of_books = \"15\"\n",
        "print(\"num_of_books in 4 months\",int(num_of_books)/4)"
      ]
    },
    {
      "cell_type": "markdown",
      "id": "7c6fa533",
      "metadata": {
        "id": "7c6fa533"
      },
      "source": [
        "### Exercise 4\n",
        "\n",
        "We have been given the following information about a person:\n",
        "\n",
        "- Name: John Doe\n",
        "- Age: 25\n",
        "- Height: 1.75 metres\n",
        "- Weight: 68.5 kilograms\n",
        "\n",
        "Create variables of appropriate data types to store this information. Then calculate the Body Mass Index (BMI) using the formula:\n",
        "\n",
        "$BMI = \\frac{{\\text{{Weight}}}}{{\\text{{Height}}^2}}$\n",
        "\n",
        "Print the result."
      ]
    },
    {
      "cell_type": "code",
      "execution_count": null,
      "id": "ab935db6",
      "metadata": {
        "id": "ab935db6",
        "outputId": "e0cbfd36-86a9-49a8-dcd9-dd21dc688ded"
      },
      "outputs": [
        {
          "name": "stdout",
          "output_type": "stream",
          "text": [
            "John DOe'sBody Mass Index is22.367346938775512\n"
          ]
        }
      ],
      "source": [
        "# Your solution here...\n",
        "name=\"John DOe\"\n",
        "a=25\n",
        "h=1.75\n",
        "w=68.5\n",
        "bmi=(w)/(h*h)\n",
        "#print(\"Name:\"+ name)\n",
        "#print(\"Age:\",a)\n",
        "#print(\"height:\",h,\"metres\")\n",
        "#print(\"weight:\",w,\"kilograms\")\n",
        "print(str(name)+\"'s\"+\"Body Mass Index is\"+str(bmi))"
      ]
    },
    {
      "cell_type": "markdown",
      "id": "3dfe1d26",
      "metadata": {
        "id": "3dfe1d26"
      },
      "source": [
        "### Comprehensive exercise\n",
        "\n",
        "You are tasked with creating a program to manage inventory for a store. The program should have the following features:\n",
        "\n",
        "1. Create variables to store the following information:\n",
        "   - Product name (string)\n",
        "   - Initial quantity in stock (integer)\n",
        "   - Price per unit (float)\n",
        "   - Discount percentage (float)\n",
        "\n",
        "2. Perform the following operations:\n",
        "   - Calculate the total value of the initial stock (quantity * price per unit).\n",
        "   - Apply the discount to the total value and calculate the discounted value of stock.\n",
        "   - Update the quantity in stock based on new stock received (assume a shipment of 30 units).\n",
        "\n",
        "3. Display the results:\n",
        "   - Print a summary message that includes the product name, initial quantity, price per unit, discount percentage, total value, discounted value, and the updated quantity in stock."
      ]
    },
    {
      "cell_type": "code",
      "execution_count": null,
      "id": "e470d6d7",
      "metadata": {
        "id": "e470d6d7",
        "outputId": "25df679c-8692-43b0-b933-f780492515f5"
      },
      "outputs": [
        {
          "name": "stdout",
          "output_type": "stream",
          "text": [
            "Product_name:Widget XYZ\n",
            "initial_quantinty 100\n",
            "price_per_unit 12.5 $\n",
            "discount_percentage 15.0 %\n",
            "\n",
            "-------result-------\n",
            "total_value 1250.0 $\n",
            "discounted_value 1062.5 $\n",
            "updated_quantity_in_stock: 130\n"
          ]
        }
      ],
      "source": [
        "# Given the variables\n",
        "product_name = \"Widget XYZ\"\n",
        "initial_quantity = 100\n",
        "price_per_unit = 12.50\n",
        "discount_percentage = 0.15\n",
        "total_value=price_per_unit*initial_quantity\n",
        "discounted_value=total_value-(total_value*discount_percentage)\n",
        "print(\"Product_name:\"+\"\"+product_name)\n",
        "print(\"initial_quantinty\",initial_quantity)\n",
        "print(\"price_per_unit\",price_per_unit,\"$\")\n",
        "print(\"discount_percentage\",discount_percentage*100,\"%\")\n",
        "print(\"\\n-------result-------\")\n",
        "print(\"total_value\",total_value,\"$\")\n",
        "print(\"discounted_value\",discounted_value,\"$\")\n",
        "print(\"updated_quantity_in_stock:\",initial_quantity+30)\n",
        "# Your solution here..."
      ]
    },
    {
      "cell_type": "markdown",
      "id": "d6d99f41",
      "metadata": {
        "id": "d6d99f41"
      },
      "source": [
        "## Solutions"
      ]
    },
    {
      "cell_type": "markdown",
      "id": "a799793f",
      "metadata": {
        "id": "a799793f"
      },
      "source": [
        "### Exercise 1\n"
      ]
    },
    {
      "cell_type": "code",
      "execution_count": null,
      "id": "1a372c9f",
      "metadata": {
        "id": "1a372c9f",
        "outputId": "7c478653-f99e-4dd8-dc8c-51f21b33c8e0"
      },
      "outputs": [
        {
          "name": "stdout",
          "output_type": "stream",
          "text": [
            "Sum:  22\n",
            "Difference:  8\n",
            "Product:  105\n",
            "Division:  2.142857142857143\n"
          ]
        }
      ],
      "source": [
        "num1 = 15\n",
        "num2 = 7\n",
        "\n",
        "# Perform operations\n",
        "sum_result = num1 + num2\n",
        "difference_result = num1 - num2\n",
        "product_result = num1 * num2\n",
        "division_result = float(num1) / num2\n",
        "\n",
        "# Print the variables\n",
        "print(\"Sum: \", sum_result)\n",
        "print(\"Difference: \", difference_result)\n",
        "print(\"Product: \", product_result)\n",
        "print(\"Division: \", division_result)"
      ]
    },
    {
      "cell_type": "markdown",
      "id": "85bdf14d",
      "metadata": {
        "id": "85bdf14d"
      },
      "source": [
        "### Exercise 2"
      ]
    },
    {
      "cell_type": "code",
      "execution_count": null,
      "id": "3cf002bb",
      "metadata": {
        "id": "3cf002bb",
        "outputId": "976242ab-051f-46f2-df2d-de09fea176e5"
      },
      "outputs": [
        {
          "name": "stdout",
          "output_type": "stream",
          "text": [
            "Full name in uppercase: JANE DOE\n"
          ]
        }
      ],
      "source": [
        "# Variable creation\n",
        "first_name = \"Jane\"\n",
        "last_name = \"Doe\"\n",
        "\n",
        "# String manipulation and concatenation\n",
        "full_name = first_name + \" \" + last_name\n",
        "\n",
        "# Display result in uppercase\n",
        "print(\"Full name in uppercase:\", full_name.upper())"
      ]
    },
    {
      "cell_type": "markdown",
      "id": "e614ef6f",
      "metadata": {
        "id": "e614ef6f"
      },
      "source": [
        "### Exercise 3"
      ]
    },
    {
      "cell_type": "code",
      "execution_count": null,
      "id": "06dbab2e",
      "metadata": {
        "id": "06dbab2e",
        "outputId": "52a26f24-2f53-4528-9b50-34e50550d14f"
      },
      "outputs": [
        {
          "name": "stdout",
          "output_type": "stream",
          "text": [
            "You have read an average of 3.75 books per week.\n"
          ]
        }
      ],
      "source": [
        "num_of_books = \"15\"\n",
        "\n",
        "# Casting to integer\n",
        "books_read = int(num_of_books)\n",
        "\n",
        "# Calculate average books read per week\n",
        "weeks_in_month = 4\n",
        "average_books_per_week = books_read / weeks_in_month\n",
        "\n",
        "# Print result\n",
        "print(\"You have read an average of \" + str(average_books_per_week) + \" books per week.\")"
      ]
    },
    {
      "cell_type": "markdown",
      "id": "650f12e4",
      "metadata": {
        "id": "650f12e4"
      },
      "source": [
        "### Exercise 4"
      ]
    },
    {
      "cell_type": "code",
      "execution_count": null,
      "id": "801f5ce8",
      "metadata": {
        "id": "801f5ce8",
        "outputId": "db398464-05dd-42e5-981a-23a97e3592e4"
      },
      "outputs": [
        {
          "name": "stdout",
          "output_type": "stream",
          "text": [
            "John Doe's BMI is: 22.367346938775512\n"
          ]
        }
      ],
      "source": [
        "# Given information\n",
        "name = \"John Doe\"\n",
        "age = 25\n",
        "height = 1.75  # in metres\n",
        "weight = 68.5  # in kilograms\n",
        "\n",
        "# Calculate BMI\n",
        "bmi = weight / (height ** 2)\n",
        "\n",
        "# Print result\n",
        "print(str(name) + \"\\'s BMI is: \"+ str(bmi))"
      ]
    },
    {
      "cell_type": "markdown",
      "id": "86f94df6",
      "metadata": {
        "id": "86f94df6"
      },
      "source": [
        "### Comprehensive exercise\n",
        "\n",
        "This comprehensive exercise integrates the creation of variables with different data types, mathematical operations, and string manipulation. It simulates a real-world scenario of managing inventory for a store and requires us to apply various concepts in a practical context."
      ]
    },
    {
      "cell_type": "code",
      "execution_count": null,
      "id": "ec99b747",
      "metadata": {
        "id": "ec99b747",
        "outputId": "cf15b8ba-a1f9-47f0-eb95-fdda0835711c"
      },
      "outputs": [
        {
          "name": "stdout",
          "output_type": "stream",
          "text": [
            "Product name: Widget XYZ\n",
            "Initial quantity: 100\n",
            "Price per unit: $ 12.5\n",
            "Discount percentage: 15.0 %\n",
            "\n",
            "--- Results ---\n",
            "Total value of initial stock: $ 1250.0\n",
            "Discounted value: $ 1062.5\n",
            "Updated quantity in stock: 130\n"
          ]
        }
      ],
      "source": [
        "# Given the variables\n",
        "product_name = \"Widget XYZ\"\n",
        "initial_quantity = 100\n",
        "price_per_unit = 12.50\n",
        "discount_percentage = 0.15\n",
        "\n",
        "# Calculate total value of initial stock\n",
        "total_value = initial_quantity * price_per_unit\n",
        "\n",
        "# Apply discount and calculate discounted price\n",
        "discounted_value = total_value - (total_value * discount_percentage)\n",
        "\n",
        "# Update quantity based on new shipment\n",
        "new_shipment = 30\n",
        "updated_quantity = initial_quantity + new_shipment\n",
        "\n",
        "# Display results\n",
        "print(\"Product name:\", product_name)\n",
        "print(\"Initial quantity:\", initial_quantity)\n",
        "print(\"Price per unit: $\", price_per_unit)\n",
        "print(\"Discount percentage:\", discount_percentage * 100, \"%\")\n",
        "\n",
        "print(\"\\n--- Results ---\")\n",
        "print(\"Total value of initial stock: $\", total_value)\n",
        "print(\"Discounted value: $\", discounted_value)\n",
        "print(\"Updated quantity in stock:\", updated_quantity)"
      ]
    },
    {
      "cell_type": "code",
      "source": [
        "a=5\n",
        "b=7\n",
        "pask=123\n",
        "print(\"\\n----Welcome----\")\n",
        "a=input(\"enter the pasword\")\n",
        "if pask==123:\n",
        "  print(\"login succesful\")\n",
        "else:\n",
        "  print(\"password incorect?\")"
      ],
      "metadata": {
        "colab": {
          "base_uri": "https://localhost:8080/"
        },
        "id": "2Yj6JlsOkoha",
        "outputId": "22826c64-a6f3-4658-9688-dc6f5137065f"
      },
      "id": "2Yj6JlsOkoha",
      "execution_count": 9,
      "outputs": [
        {
          "output_type": "stream",
          "name": "stdout",
          "text": [
            "\n",
            "----Welcome----\n",
            "enter the pasword1222\n",
            "login succesful\n"
          ]
        }
      ]
    },
    {
      "cell_type": "markdown",
      "id": "26fd094b-0fee-46f1-a4b8-73766813c42b",
      "metadata": {
        "tags": [],
        "id": "26fd094b-0fee-46f1-a4b8-73766813c42b"
      },
      "source": [
        "#  \n",
        "\n",
        "<div align=\"center\" style=\" font-size: 80%; text-align: center; margin: 0 auto\">\n",
        "<img src=\"https://raw.githubusercontent.com/Explore-AI/Pictures/master/ExploreAI_logos/EAI_Blue_Dark.png\"  style=\"width:200px\";/>\n",
        "</div>"
      ]
    }
  ],
  "metadata": {
    "kernelspec": {
      "display_name": "Python 3 (ipykernel)",
      "language": "python",
      "name": "python3"
    },
    "language_info": {
      "codemirror_mode": {
        "name": "ipython",
        "version": 3
      },
      "file_extension": ".py",
      "mimetype": "text/x-python",
      "name": "python",
      "nbconvert_exporter": "python",
      "pygments_lexer": "ipython3",
      "version": "3.11.5"
    },
    "colab": {
      "provenance": [],
      "toc_visible": true,
      "include_colab_link": true
    }
  },
  "nbformat": 4,
  "nbformat_minor": 5
}