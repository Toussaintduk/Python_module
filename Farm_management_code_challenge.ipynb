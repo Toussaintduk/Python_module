{
  "cells": [
    {
      "cell_type": "markdown",
      "metadata": {
        "id": "view-in-github",
        "colab_type": "text"
      },
      "source": [
        "<a href=\"https://colab.research.google.com/github/Toussaintduk/Python_module/blob/main/Farm_management_code_challenge.ipynb\" target=\"_parent\"><img src=\"https://colab.research.google.com/assets/colab-badge.svg\" alt=\"Open In Colab\"/></a>"
      ]
    },
    {
      "cell_type": "markdown",
      "id": "6113d1f8",
      "metadata": {
        "id": "6113d1f8"
      },
      "source": [
        "<div align=\"center\" style=\" font-size: 80%; text-align: center; margin: 0 auto\">\n",
        "<img src=\"https://raw.githubusercontent.com/Explore-AI/Pictures/master/Python-Notebook-Banners/Code_challenge.png\"  style=\"display: block; margin-left: auto; margin-right: auto;\";/>\n",
        "</div>"
      ]
    },
    {
      "cell_type": "markdown",
      "id": "f662d169",
      "metadata": {
        "id": "f662d169"
      },
      "source": [
        "# Code challenge: Farm harvest management\n",
        "© ExploreAI Academy"
      ]
    },
    {
      "cell_type": "markdown",
      "id": "26af890c",
      "metadata": {
        "id": "26af890c"
      },
      "source": [
        "In this code challenge, we will assist a farmer in calculating the total harvest from two fields (wheat and potatoes) and the overall expenses and profits for this season.\n",
        "\n"
      ]
    },
    {
      "cell_type": "markdown",
      "id": "2d230d14",
      "metadata": {
        "tags": [],
        "id": "2d230d14"
      },
      "source": [
        "## Learning objectives\n",
        "\n",
        "In this train, we will:\n",
        "- Understand how to perform basic arithmetic operations in a Jupyter notebook.\n",
        "- Know how to assign numerical values to variables.\n",
        "- Know how to use the print() function to display our results.\n"
      ]
    },
    {
      "cell_type": "markdown",
      "id": "f1239a65",
      "metadata": {
        "id": "f1239a65"
      },
      "source": [
        "## Instructions\n",
        "\n",
        "- **This code challenge does not count for marks.**\n",
        "- Do not add or remove cells in this notebook.\n",
        "- Answer the questions according to the specifications provided.\n",
        "- Use the given cell in each question to see if your function matches the expected outputs."
      ]
    },
    {
      "cell_type": "markdown",
      "id": "0c0952ad",
      "metadata": {
        "id": "0c0952ad"
      },
      "source": [
        "## Challenge 1\n",
        "Calculate the total harvest for the farmer."
      ]
    },
    {
      "cell_type": "code",
      "execution_count": 1,
      "id": "9a7b58fb",
      "metadata": {
        "colab": {
          "base_uri": "https://localhost:8080/"
        },
        "id": "9a7b58fb",
        "outputId": "0993e047-8821-4963-e135-0394b296fc5a"
      },
      "outputs": [
        {
          "output_type": "stream",
          "name": "stdout",
          "text": [
            "Total harvest in kilograms: 5650\n"
          ]
        }
      ],
      "source": [
        "total_kgs_wheat_harvest = 2050\n",
        "total_kgs_potato_harvest = 3600\n",
        "\n",
        "total_kgs_harvest =total_kgs_wheat_harvest+total_kgs_potato_harvest\n",
        "print(\"Total harvest in kilograms:\", total_kgs_harvest)"
      ]
    },
    {
      "cell_type": "markdown",
      "id": "061a147b",
      "metadata": {
        "id": "061a147b"
      },
      "source": [
        "**Expected outputs:**\n",
        "```python\n",
        "Total harvest in kilograms: 5650\n",
        "```"
      ]
    },
    {
      "cell_type": "markdown",
      "id": "5178cb64",
      "metadata": {
        "id": "5178cb64"
      },
      "source": [
        "## Challenge 2\n",
        "Calculate the total expenses (in dollars) and print the result."
      ]
    },
    {
      "cell_type": "code",
      "execution_count": 2,
      "id": "9416fd74",
      "metadata": {
        "colab": {
          "base_uri": "https://localhost:8080/"
        },
        "id": "9416fd74",
        "outputId": "2b198aa1-c433-4fbb-ba02-d51b8b6f5d4e"
      },
      "outputs": [
        {
          "output_type": "stream",
          "name": "stdout",
          "text": [
            "Total Expenses in dollars :3720\n"
          ]
        }
      ],
      "source": [
        "seed_expense = 650\n",
        "labour_expense = 3070\n",
        "\n",
        "total_expenses_dollars =(seed_expense+labour_expense)\n",
        "print(\"Total Expenses in dollars :\"+str(total_expenses_dollars)) # add your code here"
      ]
    },
    {
      "cell_type": "markdown",
      "id": "7ea34ab9",
      "metadata": {
        "id": "7ea34ab9"
      },
      "source": [
        "**Expected outputs:**\n",
        "```python\n",
        "Total expenses in dollars: 3720\n",
        "```"
      ]
    },
    {
      "cell_type": "markdown",
      "id": "8ed4e933",
      "metadata": {
        "id": "8ed4e933"
      },
      "source": [
        "## Challenge 3\n",
        "Calculate the total revenue (in dollars) and print the result."
      ]
    },
    {
      "cell_type": "code",
      "execution_count": 4,
      "id": "8d11b2b5",
      "metadata": {
        "colab": {
          "base_uri": "https://localhost:8080/"
        },
        "id": "8d11b2b5",
        "outputId": "49ce43bd-310f-4512-cd49-51decbcb96cb"
      },
      "outputs": [
        {
          "output_type": "stream",
          "name": "stdout",
          "text": [
            "Total revenue in dollars : 9140 $\n"
          ]
        }
      ],
      "source": [
        "price_per_kg_wheat = 2\n",
        "price_per_kg_potato = 1.4\n",
        "\n",
        "total_revenue_dollars = (price_per_kg_wheat *total_kgs_wheat_harvest +price_per_kg_potato*total_kgs_potato_harvest)\n",
        "print(\"Total revenue in dollars :\",int(total_revenue_dollars),\"$\")"
      ]
    },
    {
      "cell_type": "markdown",
      "id": "4aeae053",
      "metadata": {
        "id": "4aeae053"
      },
      "source": [
        "**Expected outputs:**\n",
        "```python\n",
        "Total revenue in dollars: 9140\n",
        "```"
      ]
    },
    {
      "cell_type": "markdown",
      "id": "6f3459ae",
      "metadata": {
        "id": "6f3459ae"
      },
      "source": [
        "## Challenge 4\n",
        "Calculate the total profit (in dollars) and print the result."
      ]
    },
    {
      "cell_type": "code",
      "execution_count": 5,
      "id": "506a5ccd",
      "metadata": {
        "colab": {
          "base_uri": "https://localhost:8080/"
        },
        "id": "506a5ccd",
        "outputId": "cdc9d5d4-9785-4c0a-880a-d566afd60495"
      },
      "outputs": [
        {
          "output_type": "stream",
          "name": "stdout",
          "text": [
            "Total Profit in dollars: 5420 $\n"
          ]
        }
      ],
      "source": [
        "total_profit_dollars = total_revenue_dollars-total_expenses_dollars\n",
        "print(\"Total Profit in dollars:\",int(total_profit_dollars),\"$\" )"
      ]
    },
    {
      "cell_type": "markdown",
      "id": "63b9c074",
      "metadata": {
        "id": "63b9c074"
      },
      "source": [
        "**Expected outputs:**\n",
        "```python\n",
        "Total profit in dollars: 5420\n",
        "```"
      ]
    },
    {
      "cell_type": "markdown",
      "id": "26fd094b-0fee-46f1-a4b8-73766813c42b",
      "metadata": {
        "tags": [],
        "id": "26fd094b-0fee-46f1-a4b8-73766813c42b"
      },
      "source": [
        "#  \n",
        "\n",
        "<div align=\"center\" style=\" font-size: 80%; text-align: center; margin: 0 auto\">\n",
        "<img src=\"https://raw.githubusercontent.com/Explore-AI/Pictures/master/ExploreAI_logos/EAI_Blue_Dark.png\"  style=\"width:200px\";/>\n",
        "</div>"
      ]
    }
  ],
  "metadata": {
    "kernelspec": {
      "display_name": "Python 3 (ipykernel)",
      "language": "python",
      "name": "python3"
    },
    "language_info": {
      "codemirror_mode": {
        "name": "ipython",
        "version": 3
      },
      "file_extension": ".py",
      "mimetype": "text/x-python",
      "name": "python",
      "nbconvert_exporter": "python",
      "pygments_lexer": "ipython3",
      "version": "3.11.5"
    },
    "colab": {
      "provenance": [],
      "include_colab_link": true
    }
  },
  "nbformat": 4,
  "nbformat_minor": 5
}